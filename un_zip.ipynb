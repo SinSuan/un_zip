{
 "cells": [
  {
   "cell_type": "code",
   "execution_count": 1,
   "id": "129877b6-e7c5-4c3f-a0fb-18846dabeda2",
   "metadata": {
    "tags": []
   },
   "outputs": [],
   "source": [
    "import zipfile"
   ]
  },
  {
   "cell_type": "code",
   "execution_count": 12,
   "id": "fa02be56-f1ff-42b8-8c22-8bc28d74242a",
   "metadata": {
    "tags": []
   },
   "outputs": [],
   "source": [
    "path='Agri_inverted_index.zip'"
   ]
  },
  {
   "cell_type": "markdown",
   "id": "8746dd73-89f4-4f09-8439-fda35af4f941",
   "metadata": {
    "tags": []
   },
   "source": [
    "### **檢查是否為壓縮檔**"
   ]
  },
  {
   "cell_type": "code",
   "execution_count": 11,
   "id": "6b088687-81e3-4326-9652-2f323afad282",
   "metadata": {
    "tags": []
   },
   "outputs": [
    {
     "name": "stdout",
     "output_type": "stream",
     "text": [
      "Agri_inverted_index.zip: True\n"
     ]
    }
   ],
   "source": [
    "print(f'{file}: {zipfile.is_zipfile(file)}')"
   ]
  },
  {
   "cell_type": "code",
   "execution_count": 7,
   "id": "ce014dbc-ea54-4ffa-8c0b-f5375c246e9f",
   "metadata": {
    "tags": []
   },
   "outputs": [
    {
     "data": {
      "text/plain": [
       "<zipfile.ZipFile filename='Agri_inverted_index.zip' mode='r'>"
      ]
     },
     "execution_count": 7,
     "metadata": {},
     "output_type": "execute_result"
    }
   ],
   "source": [
    "ZIP = zipfile.ZipFile(path)\n",
    "ZIP"
   ]
  },
  {
   "cell_type": "markdown",
   "id": "d9afb84c-b18b-4ead-8789-4d00d159d41a",
   "metadata": {
    "tags": []
   },
   "source": [
    "### **取得被壓縮的檔名**"
   ]
  },
  {
   "cell_type": "code",
   "execution_count": 14,
   "id": "5bbbc93b-85a8-4ab3-a8a3-e0905fa754e1",
   "metadata": {
    "tags": []
   },
   "outputs": [
    {
     "data": {
      "text/plain": [
       "['segments_1',\n",
       " 'write.lock',\n",
       " '_0.fdm',\n",
       " '_0.fdt',\n",
       " '_0.fdx',\n",
       " '_0.fnm',\n",
       " '_0.nvd',\n",
       " '_0.nvm',\n",
       " '_0.si',\n",
       " '_0.tvd',\n",
       " '_0.tvm',\n",
       " '_0.tvx',\n",
       " '_0_Lucene90_0.doc',\n",
       " '_0_Lucene90_0.dvd',\n",
       " '_0_Lucene90_0.dvm',\n",
       " '_0_Lucene90_0.pos',\n",
       " '_0_Lucene90_0.tim',\n",
       " '_0_Lucene90_0.tip',\n",
       " '_0_Lucene90_0.tmd']"
      ]
     },
     "execution_count": 14,
     "metadata": {},
     "output_type": "execute_result"
    }
   ],
   "source": [
    "ZIP.namelist()"
   ]
  },
  {
   "cell_type": "code",
   "execution_count": 13,
   "id": "697cd511-c0b2-4802-91d5-762d7c7a363a",
   "metadata": {
    "tags": []
   },
   "outputs": [
    {
     "data": {
      "text/plain": [
       "[<ZipInfo filename='segments_1' compress_type=deflate external_attr=0x20 file_size=154 compress_size=116>,\n",
       " <ZipInfo filename='write.lock' external_attr=0x20 file_size=0>,\n",
       " <ZipInfo filename='_0.fdm' compress_type=deflate external_attr=0x20 file_size=200 compress_size=177>,\n",
       " <ZipInfo filename='_0.fdt' compress_type=deflate external_attr=0x20 file_size=59909694 compress_size=47633722>,\n",
       " <ZipInfo filename='_0.fdx' external_attr=0x20 file_size=4265>,\n",
       " <ZipInfo filename='_0.fnm' compress_type=deflate external_attr=0x20 file_size=340 compress_size=179>,\n",
       " <ZipInfo filename='_0.nvd' compress_type=deflate external_attr=0x20 file_size=12989 compress_size=9099>,\n",
       " <ZipInfo filename='_0.nvm' external_attr=0x20 file_size=103>,\n",
       " <ZipInfo filename='_0.si' compress_type=deflate external_attr=0x20 file_size=519 compress_size=338>,\n",
       " <ZipInfo filename='_0.tvd' compress_type=deflate external_attr=0x20 file_size=101037963 compress_size=86714059>,\n",
       " <ZipInfo filename='_0.tvm' compress_type=deflate external_attr=0x20 file_size=415 compress_size=302>,\n",
       " <ZipInfo filename='_0.tvx' compress_type=deflate external_attr=0x20 file_size=26630 compress_size=23861>,\n",
       " <ZipInfo filename='_0_Lucene90_0.doc' compress_type=deflate external_attr=0x20 file_size=22081598 compress_size=18996062>,\n",
       " <ZipInfo filename='_0_Lucene90_0.dvd' compress_type=deflate external_attr=0x20 file_size=95410 compress_size=31371>,\n",
       " <ZipInfo filename='_0_Lucene90_0.dvm' compress_type=deflate external_attr=0x20 file_size=171 compress_size=148>,\n",
       " <ZipInfo filename='_0_Lucene90_0.pos' compress_type=deflate external_attr=0x20 file_size=41908020 compress_size=39091481>,\n",
       " <ZipInfo filename='_0_Lucene90_0.tim' compress_type=deflate external_attr=0x20 file_size=8800030 compress_size=6541103>,\n",
       " <ZipInfo filename='_0_Lucene90_0.tip' compress_type=deflate external_attr=0x20 file_size=253964 compress_size=163798>,\n",
       " <ZipInfo filename='_0_Lucene90_0.tmd' compress_type=deflate external_attr=0x20 file_size=265 compress_size=237>]"
      ]
     },
     "execution_count": 13,
     "metadata": {},
     "output_type": "execute_result"
    }
   ],
   "source": [
    "ZIP.infolist()"
   ]
  },
  {
   "cell_type": "code",
   "execution_count": 15,
   "id": "09a0dff0-0562-4d3f-bef9-8479cad07355",
   "metadata": {
    "tags": []
   },
   "outputs": [
    {
     "name": "stdout",
     "output_type": "stream",
     "text": [
      "<ZipInfo filename='segments_1' compress_type=deflate external_attr=0x20 file_size=154 compress_size=116>\n",
      "<ZipInfo filename='write.lock' external_attr=0x20 file_size=0>\n",
      "<ZipInfo filename='_0.fdm' compress_type=deflate external_attr=0x20 file_size=200 compress_size=177>\n",
      "<ZipInfo filename='_0.fdt' compress_type=deflate external_attr=0x20 file_size=59909694 compress_size=47633722>\n",
      "<ZipInfo filename='_0.fdx' external_attr=0x20 file_size=4265>\n",
      "<ZipInfo filename='_0.fnm' compress_type=deflate external_attr=0x20 file_size=340 compress_size=179>\n",
      "<ZipInfo filename='_0.nvd' compress_type=deflate external_attr=0x20 file_size=12989 compress_size=9099>\n",
      "<ZipInfo filename='_0.nvm' external_attr=0x20 file_size=103>\n",
      "<ZipInfo filename='_0.si' compress_type=deflate external_attr=0x20 file_size=519 compress_size=338>\n",
      "<ZipInfo filename='_0.tvd' compress_type=deflate external_attr=0x20 file_size=101037963 compress_size=86714059>\n",
      "<ZipInfo filename='_0.tvm' compress_type=deflate external_attr=0x20 file_size=415 compress_size=302>\n",
      "<ZipInfo filename='_0.tvx' compress_type=deflate external_attr=0x20 file_size=26630 compress_size=23861>\n",
      "<ZipInfo filename='_0_Lucene90_0.doc' compress_type=deflate external_attr=0x20 file_size=22081598 compress_size=18996062>\n",
      "<ZipInfo filename='_0_Lucene90_0.dvd' compress_type=deflate external_attr=0x20 file_size=95410 compress_size=31371>\n",
      "<ZipInfo filename='_0_Lucene90_0.dvm' compress_type=deflate external_attr=0x20 file_size=171 compress_size=148>\n",
      "<ZipInfo filename='_0_Lucene90_0.pos' compress_type=deflate external_attr=0x20 file_size=41908020 compress_size=39091481>\n",
      "<ZipInfo filename='_0_Lucene90_0.tim' compress_type=deflate external_attr=0x20 file_size=8800030 compress_size=6541103>\n",
      "<ZipInfo filename='_0_Lucene90_0.tip' compress_type=deflate external_attr=0x20 file_size=253964 compress_size=163798>\n",
      "<ZipInfo filename='_0_Lucene90_0.tmd' compress_type=deflate external_attr=0x20 file_size=265 compress_size=237>\n"
     ]
    }
   ],
   "source": [
    "for name in ZIP.namelist():\n",
    "    info = ZIP.getinfo(name)\n",
    "    print(info)"
   ]
  },
  {
   "cell_type": "markdown",
   "id": "6419a97f-5f0a-448c-88b0-3a24f71b3b38",
   "metadata": {},
   "source": [
    "### **解壓縮ZIP檔**"
   ]
  },
  {
   "cell_type": "code",
   "execution_count": 16,
   "id": "48929e56-4f44-4d3c-9d63-d5a834eb8d11",
   "metadata": {
    "tags": []
   },
   "outputs": [],
   "source": [
    "folder = \"Agri_inverted_index\""
   ]
  },
  {
   "cell_type": "markdown",
   "id": "26c9ce60-6abe-449a-a05f-65dde582ba95",
   "metadata": {},
   "source": [
    "### ***全部解壓縮***"
   ]
  },
  {
   "cell_type": "code",
   "execution_count": 18,
   "id": "8fee95d8-a2a8-42f1-bb0c-979fce4277b0",
   "metadata": {
    "tags": []
   },
   "outputs": [],
   "source": [
    "ZIP.extractall(folder)"
   ]
  },
  {
   "cell_type": "code",
   "execution_count": null,
   "id": "ebdacf36-10de-4e02-88d4-1a832818fca3",
   "metadata": {},
   "outputs": [],
   "source": []
  }
 ],
 "metadata": {
  "kernelspec": {
   "display_name": "Python 3 (ipykernel)",
   "language": "python",
   "name": "python3"
  },
  "language_info": {
   "codemirror_mode": {
    "name": "ipython",
    "version": 3
   },
   "file_extension": ".py",
   "mimetype": "text/x-python",
   "name": "python",
   "nbconvert_exporter": "python",
   "pygments_lexer": "ipython3",
   "version": "3.9.12"
  }
 },
 "nbformat": 4,
 "nbformat_minor": 5
}
